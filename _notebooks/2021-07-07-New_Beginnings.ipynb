{
  "cells": [
    {
      "cell_type": "markdown",
      "metadata": {
        "id": "Qn_apgHVcE3I"
      },
      "source": [
        "# New Beginnings\r\n",
        "> This post covers part of the first 2.5 lessons of fastai's Practical Deep Learning for Coders. My notes mainly focus on understanding the code supplied in the textbook. Here we understand what some of the beginning code does.\r\n",
        "\r\n",
        "- toc: true \r\n",
        "- branch: master\r\n",
        "- badges: true\r\n",
        "- comments: true\r\n",
        "- author: Eyad Mohamed Ali\r\n",
        "- categories: [fastai, deep learning, notes]"
      ]
    },
    {
      "cell_type": "markdown",
      "metadata": {
        "id": "WO06rFQWvjPQ"
      },
      "source": [
        "> Disclaimers:\r\n",
        "\r\n",
        "> Firstly, I generally have little to no idea what I'm doing. For the most part, I'm trying to better myself with only a vague idea of where my next step will take me. The following notes are an attempt at building consistent, productive habits. I hope that these habits will help improve my abilities over time. To all who read this, I hope you enjoy it and maybe learn a thing or two.\r\n",
        "\r\n",
        "> Secondly, there might be some grammatical mistakes in the following post, that's to be expected since these notes were initially meant for my eyes only. Also, I might have made a few mistakes and, due to lack of understanding, copied the language used by the original source."
      ]
    },
    {
      "cell_type": "markdown",
      "metadata": {
        "id": "O5bg2lxivjrK"
      },
      "source": [
        "## Let's Begin\r\n",
        "**Deep learning is the product of emulating how our brains work with artificial neurons. You can find a more accurate and detailed description in this [notebook](https://colab.research.google.com/github/fastai/fastbook/blob/master/01_intro.ipynb) (thank you, fastai).**"
      ]
    },
    {
      "cell_type": "markdown",
      "metadata": {},
      "source": [
        "### Cats & Dogs\r\n",
        "*The following notes cover the code featured in the jupyter notebooks featured in fastai's [Practical Deep Learning for Coders](https://course.fast.ai/).*\r\n",
        "\r\n",
        "This code is from the [first chapter](https://colab.research.google.com/github/fastai/fastbook/blob/master/01_intro.ipynb) of the course.\r\n",
        "\r\n",
        "```python\r\n",
        "from fastai.vision.all import *\r\n",
        "path = untar_data(URLs.PETS)/'images'\r\n",
        "\r\n",
        "def is_cat(x): return x[0].isupper()\r\n",
        "dls = ImageDataLoaders.from_name_func(\r\n",
        "    path, get_image_files(path), valid_pct=0.2, seed=42,\r\n",
        "    label_func=is_cat, item_tfms=Resize(224))\r\n",
        "\r\n",
        "learn = cnn_learner(dls, resnet34, metrics=error_rate)\r\n",
        "learn.fine_tune(1)\r\n",
        "```\r\n",
        "\r\n",
        "This block of code, as a whole, creates a deep learning model that can differentiate between cats and dogs. By breaking it down, we can learn a little more about how to write our own code.\r\n",
        "\r\n",
        "```python\r\n",
        "from fastai.vision.all import *\r\n",
        "path = untar_data(URLs.PETS)/'images'\r\n",
        "```\r\n",
        "The above lines of code import all the needed code and  returns a path object with the location of the downloaded and extracted dataset, respectively. The rest of the code will be explored in the next sections.\r\n"
      ]
    },
    {
      "cell_type": "markdown",
      "metadata": {},
      "source": [
        "#### ImageDataLoaders\r\n",
        "\r\n",
        "```python\r\n",
        "dls = ImageDataLoaders.from_name_func(\r\n",
        "          path, get_image_files(path), \r\n",
        "          valid_pct=0.2, seed=42,\r\n",
        "          label_func=is_cat, \r\n",
        "          item_tfms=Resize(224)\r\n",
        "      )\r\n",
        "```\r\n",
        "The above code is where we tell fastai about the data we will be supplying. ``` dls ``` tells fastai what kind of dataset we have and how it's structured. ``` dls ``` is what we call a DataLoaders object, we'll get more into that in another post.\r\n",
        "\r\n",
        "*  [ ```ImageDataLoaders```](https://docs.fast.ai/vision.data.html#ImageDataLoaders) - one of the many classes for deeplearning (a type of DataLoaders), the first part shows the type of data we're going to be using (in this case Images).\r\n",
        "*   ```.from_name_func``` - this tells fastai to get the label of the data from a function applied to the file name.\r\n",
        "*   ```path``` - where the image files are located\r\n",
        "*   ```get_image_files(path)``` - returns a list of all the images in this path\r\n",
        "*   ```valid_pct = 0.2, seed = 42``` - tells fastai to use 20% of the images as a validation set and the seed (for generating pseudorandom numbers) is set to 42.\r\n",
        "*   ```label_func = is_cat``` - label_func takes in the function used to label the images. The function ```is_cat``` will be given the file names (thanks to the ```from_name_func``` part of the code) and then return the label.\r\n",
        "*   ```item_tfms=Resize(224)``` - ```item_tfms``` is the function applied to every item in the dataset. In this case, the fastai function ```Resize(224)``` is used to resize each image to a 224 x 224 pixel image. \r\n",
        "\r\n",
        "---\r\n",
        "\r\n",
        "> Note: is_cat returns True (cat) if the first letter of the file name is in upper case and False (not cat) otherwise.\r\n",
        "\r\n",
        "> Note: We can also have batch transforms which apply to groups of items at once. These can be done on GPUs to be done in parallel (pretty fast).\r\n",
        "\r\n"
      ]
    },
    {
      "cell_type": "markdown",
      "metadata": {},
      "source": [
        "#### Convoluted Neural Networks (CNNs)\r\n",
        "\r\n",
        "```python\r\n",
        "learn = cnn_learner(dls, resnet34, metrics=error_rate)\r\n",
        "```\r\n",
        "The above code tells fastai to create a Convoluted Neural Network (CNN) using the resnet34 architecture - 34 is the number of layers in the CNN.\r\n",
        "\r\n",
        "The metrics are values that represent the performance of the CNN at the end of every epoch (when the network goes through the data once). The metrics are not to be confused with the loss of a neural network. Loss is a function that changes with any change in the parameters used in the network; meanwhile, metrics don't always change with a change in parameter. In this case, the metric used is ```error_rate``` which returns the percentage of validation items mislabeled by the CNN. An alternative metric is the ```accuracy``` which returns the percentage labeled correct (1 - ```error_rate```).\r\n",
        "\r\n",
        "The function, ```cnn_learner```, also has a parameter called ```pretrained``` that defaults to ```True```. This parameter tells fastai to use the weights of previously created models. This starts off with a pretty capable model with the last layer (or head) of the previous model replaced with random parameters. Now we only need to run the line ```learn.fine_tune(1)``` which modifies the network to meet our needs.\r\n",
        "\r\n",
        "---\r\n",
        "\r\n",
        "> Tip: Finetuning a model (also called transfer learning) reminds me of how some people often transfer their skills from one field to another. It might help to think of it that way.\r\n"
      ]
    }
  ],
  "metadata": {
    "colab": {
      "collapsed_sections": [],
      "name": "2021-07-07-New Beginnings.ipynb",
      "provenance": []
    },
    "interpreter": {
      "hash": "db1b99295c804bdec69ec689fc7d1400581209a53dc069942aa1d9c052c31752"
    },
    "kernelspec": {
      "display_name": "Python 3.8.10 64-bit",
      "name": "python3"
    },
    "language_info": {
      "name": "python",
      "version": ""
    }
  },
  "nbformat": 4,
  "nbformat_minor": 0
}