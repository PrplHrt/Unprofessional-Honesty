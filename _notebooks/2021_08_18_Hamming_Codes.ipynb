{
  "nbformat": 4,
  "nbformat_minor": 0,
  "metadata": {
    "colab": {
      "name": "2021-08-18-Hamming_Codes",
      "provenance": [],
      "collapsed_sections": []
    },
    "kernelspec": {
      "name": "python3",
      "display_name": "Python 3"
    },
    "language_info": {
      "name": "python"
    }
  },
  "cells": [
    {
      "cell_type": "markdown",
      "metadata": {
        "id": "tzeabeDHYAiy"
      },
      "source": [
        "# Hamming Codes\n",
        "> Notes and code after watching 3Blue1Brown's Hamming code videos.\n",
        "\n",
        " toc: true \n",
        "- branch: master\n",
        "- badges: true\n",
        "- comments: true\n",
        "- author: Eyad Mohamed Ali\n",
        "- categories: [python, personal projects]\n",
        "\n"
      ]
    },
    {
      "cell_type": "markdown",
      "metadata": {
        "id": "uDI2K1RcSOPQ"
      },
      "source": [
        "# Youtube & Codes\n",
        "\n",
        "Today, while mindlessly looking at my Youtube home page, I stumbled upon a couple of videos by Grant Sanderson on his channel [3Blue1Brown](https://www.youtube.com/channel/UCYO_jab_esuFRV4b17AJtAw). Sanderson introduces the concept in a way that lets the viewer rediscover Hamming's methodology. I highly recommend watching the videos yourself to understand the contents of this post.\n",
        "\n",
        "> youtube: https://youtu.be/X8jsijhllIA\n"
      ]
    },
    {
      "cell_type": "markdown",
      "metadata": {
        "id": "UG5M6UymU6NN"
      },
      "source": [
        "After watching both videos, I felt inspired to try out the code that Sanderson displayed in the [second video](https://youtu.be/b3NxrZOu_CE). I created a simple Python code that first produces a random message comprised of 1s and 0s. The code then takes the generated message and changes the appropriate parity bits. The resulting message will then become a no-error version of the original. Below is the final, commented-version of the code:"
      ]
    },
    {
      "cell_type": "code",
      "metadata": {
        "colab": {
          "base_uri": "https://localhost:8080/"
        },
        "id": "tkD7o7lHZmAf",
        "outputId": "7238779e-8e1f-4868-9d9e-fb2f9707c7f8"
      },
      "source": [
        "#collapse\n",
        "from functools import reduce\n",
        "# When running this locally, you will need numpy installed https://numpy.org/install/\n",
        "import numpy as np\n",
        "\n",
        "# Printing method that prints out the message in a square\n",
        "def print_block(message):\n",
        "    row_size = len(message) ** 0.5\n",
        "    i = 0\n",
        "    for bit in message:\n",
        "        print(bit, end=\" \")\n",
        "        if i == row_size - 1:\n",
        "            print()\n",
        "        i = (i + 1) % row_size\n",
        "    \n",
        "\n",
        "def apply_parity(message):\n",
        "    # Find which parity bits need to be changed\n",
        "    ans = reduce(lambda x,y: x^y, [pos for pos, bit in list(enumerate(message)) if bit])\n",
        "    # Removing the \"0b\" that python generates\n",
        "    bits = bin(ans)[2:]\n",
        "    print(\"Resulting binary from the XOR operation: \", bits)\n",
        "    \n",
        "    i = 0\n",
        "    # Iterate through the binary in reverse to access bit 1, 2, 4, and so on...\n",
        "    for bit in bits[::-1]:\n",
        "        # If this bit was marked to be swapped by the XOR function, we change it\n",
        "        if int(bit):\n",
        "            print(\"Changing bit #\", 2**i, \" from \",  message[2**i], \" to \", int(not  message[2**i]))\n",
        "            message[2**i] = int(not message[2**i])\n",
        "        # Using i to keep track of the parity bit we're at\n",
        "        i += 1\n",
        "\n",
        "    # Simple formula to use the 0th element to keep an even number of 1s\n",
        "    message[0] = (sum(message) - message[0]) % 2\n",
        "\n",
        "    return message\n",
        "\n",
        "\n",
        "if __name__ == \"__main__\":\n",
        "    # For debugging purposes (Makes sure that the same numbers appear each time)\n",
        "    np.random.seed(42)\n",
        "\n",
        "    while True:\n",
        "        try:\n",
        "            size = int(input(\n",
        "\"\"\"Pick size:\n",
        "        1. 4 bits\n",
        "        2. 16 bits\n",
        "        3. 64 bits\n",
        "        4. 256 bits\n",
        "            \n",
        "    Choice: \"\"\"))\n",
        "            # Makes sure option is within limits\n",
        "            if 1 <= size <= 4:\n",
        "                break\n",
        "            else:\n",
        "                print(\"Please limit yourself to options 1 to 4\")\n",
        "        except Exception:\n",
        "            # In case non integer is entered into the terminal\n",
        "            print(\"Please try again!\")\n",
        "\n",
        "    # Get a random list of 1s and 0s\n",
        "    message = np.random.randint(0, 2, 2**(size*2))\n",
        "\n",
        "    print(\"Initial message:\")\n",
        "    print_block(message)\n",
        "\n",
        "    # Applying the right parity bits\n",
        "    message = apply_parity(message)\n",
        "\n",
        "    print(\"After parity applied:\")\n",
        "    print_block(message)"
      ],
      "execution_count": 1,
      "outputs": [
        {
          "output_type": "stream",
          "text": [
            "Pick size:\n",
            "        1. 4 bits\n",
            "        2. 16 bits\n",
            "        3. 64 bits\n",
            "        4. 256 bits\n",
            "            \n",
            "    Choice: 2\n",
            "Initial message:\n",
            "0 1 0 0 \n",
            "0 1 0 0 \n",
            "0 1 0 0 \n",
            "0 0 1 0 \n",
            "Resulting binary from the XOR operation:  11\n",
            "Changing bit # 1  from  1  to  0\n",
            "Changing bit # 2  from  0  to  1\n",
            "After parity applied:\n",
            "0 0 1 0 \n",
            "0 1 0 0 \n",
            "0 1 0 0 \n",
            "0 0 1 0 \n"
          ],
          "name": "stdout"
        }
      ]
    },
    {
      "cell_type": "markdown",
      "metadata": {
        "id": "l6MntgPYX8oU"
      },
      "source": [
        "Next, I decided to add a function that would create an error in the message and another function to rectify that error. The former would randomly select a bit and change its value. The latter would use the same XOR method in \"apply_parity\" to identify the bit causing the error, then fix it. Below are the two additional functions:"
      ]
    },
    {
      "cell_type": "code",
      "metadata": {
        "colab": {
          "base_uri": "https://localhost:8080/"
        },
        "id": "aeZ_YLYxbo66",
        "outputId": "230f45c4-6949-41f3-8f58-a8156ecab4e6"
      },
      "source": [
        "# Randomly change one bit in the message\n",
        "def rand_error(message):\n",
        "    error = np.random.randint(0, len(message))\n",
        "    print(\"Changing bit #\", error, \" from \", message[error], \" to \", int( not message[error]))\n",
        "    message[error]  = not message[error]\n",
        "    return message\n",
        "\n",
        "# Fixing the faulty bit\n",
        "def fix_error(message):\n",
        "    # Find the faulty bit\n",
        "    error = reduce(lambda x,y: x^y, [pos for pos, bit in list(enumerate(message)) if bit])\n",
        "\n",
        "    print(\"Changing bit #\", error, \" from \", message[error], \" to \", int( not message[error]))\n",
        "    # Change the bit\n",
        "    message[error]  = not message[error]\n",
        "\n",
        "    return message\n",
        "\n",
        "if __name__ == \"__main__\":\n",
        "    # For debugging purposes (Makes sure that the same numbers appear each time)\n",
        "    np.random.seed(42)\n",
        "\n",
        "    while True:\n",
        "        try:\n",
        "            size = int(input(\n",
        "\"\"\"Pick size:\n",
        "        1. 4 bits\n",
        "        2. 16 bits\n",
        "        3. 64 bits\n",
        "        4. 256 bits\n",
        "            \n",
        "    Choice: \"\"\"))\n",
        "            # Makes sure option is within limits\n",
        "            if 1 <= size <= 4:\n",
        "                break\n",
        "            else:\n",
        "                print(\"Please limit yourself to options 1 to 4\")\n",
        "        except Exception:\n",
        "            # In case non integer is entered into the terminal\n",
        "            print(\"Please try again!\")\n",
        "\n",
        "    # Get a random list of 1s and 0s\n",
        "    message = np.random.randint(0, 2, 2**(size*2))\n",
        "    # Applying the right parity bits\n",
        "    message = apply_parity(message)\n",
        "\n",
        "    print(\"Before Error:\")\n",
        "    print_block(message)\n",
        "\n",
        "    # Adding an error into the message\n",
        "    print(\"Adding an error:\")\n",
        "    message = rand_error(message)\n",
        "    print_block(message)\n",
        "\n",
        "    print(\"Fixing the error:\")\n",
        "    message = fix_error(message)\n",
        "    print_block(message)"
      ],
      "execution_count": 3,
      "outputs": [
        {
          "output_type": "stream",
          "text": [
            "Pick size:\n",
            "        1. 4 bits\n",
            "        2. 16 bits\n",
            "        3. 64 bits\n",
            "        4. 256 bits\n",
            "            \n",
            "    Choice: 2\n",
            "Resulting binary from the XOR operation:  11\n",
            "Changing bit # 1  from  1  to  0\n",
            "Changing bit # 2  from  0  to  1\n",
            "Before Error:\n",
            "0 0 1 0 \n",
            "0 1 0 0 \n",
            "0 1 0 0 \n",
            "0 0 1 0 \n",
            "Adding an error:\n",
            "Changing bit # 3  from  0  to  1\n",
            "0 0 1 1 \n",
            "0 1 0 0 \n",
            "0 1 0 0 \n",
            "0 0 1 0 \n",
            "Fixing the error:\n",
            "Changing bit # 3  from  1  to  0\n",
            "0 0 1 0 \n",
            "0 1 0 0 \n",
            "0 1 0 0 \n",
            "0 0 1 0 \n"
          ],
          "name": "stdout"
        }
      ]
    },
    {
      "cell_type": "markdown",
      "metadata": {
        "id": "yDt0ae0EcGJ3"
      },
      "source": [
        "Theoretically, these functions should work for any squared number of bits. I've only limited the number to 4 options in the code for the sake of having a readable output. All of the code is compiled into one file on my GitHub, this is the [repo link](https://github.com/PrplHrt/Hamming_Code.git)."
      ]
    }
  ]
}