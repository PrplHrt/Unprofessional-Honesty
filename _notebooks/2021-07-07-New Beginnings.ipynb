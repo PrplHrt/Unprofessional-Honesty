{
  "nbformat": 4,
  "nbformat_minor": 0,
  "metadata": {
    "colab": {
      "name": "2021-07-07-New Beginnings.ipynb",
      "provenance": []
    },
    "kernelspec": {
      "name": "python3",
      "display_name": "Python 3"
    },
    "language_info": {
      "name": "python"
    }
  },
  "cells": [
    {
      "cell_type": "markdown",
      "metadata": {
        "id": "Qn_apgHVcE3I"
      },
      "source": [
        "# New Beginnings\n",
        "> This post covers part of the first 2.5 lessons of fastai's [Practical Deep Learning for Coders](https://course.fast.ai/). My notes mainly focus on understanding the code supplied in the textbook. Here we understand what some of the beginning code does.\n",
        "\n",
        "- toc:true- branch: master\n",
        "- badges: true\n",
        "- comments: true\n",
        "- author: Eyad Mohamed Ali\n",
        "- categories: [fastai, deep learning, notes]"
      ]
    },
    {
      "cell_type": "markdown",
      "metadata": {
        "id": "WO06rFQWvjPQ"
      },
      "source": [
        "> First off, I generally have little to no idea what I'm doing. For the most part, I'm trying to better myself with only a vague idea of where my next step will take me. The following notes are an attempt at building consistent, productive habits. I hope that these habits will help improve my abilities over time. To all who read this, I hope you enjoy it and maybe learn a thing or two.\n",
        "\n",
        "> Warning: There might be a lot of grammatical mistakes in the following post, that's to be expected since these notes were initially meant for my eyes only. Also, I might have made a few mistakes and, due to lack of understanding, copied the language used by the original source."
      ]
    },
    {
      "cell_type": "markdown",
      "metadata": {
        "id": "O5bg2lxivjrK"
      },
      "source": [
        "## Let's Begin\n",
        "Deep learning is the product of emulating how our brains work with artificial neurons. You can find a more accurate and detailed description in this [notebook](https://colab.research.google.com/github/fastai/fastbook/blob/master/01_intro.ipynb) (thank you, fastai)."
      ]
    },
    {
      "cell_type": "markdown",
      "metadata": {
        "id": "LV-mO9Hfvj4Z"
      },
      "source": [
        "### Exploring Chapter 1\n",
        "*The following notes cover the code featured in the jupyter notebooks featured in fastai's [Practical Deep Learning for Coders](https://course.fast.ai/).*\n",
        "\n",
        "This code is from the [first chapter](https://colab.research.google.com/github/fastai/fastbook/blob/master/01_intro.ipynb) of the course. I'll be going through most of the following lines and describing what they do.\n",
        "\n",
        "```\n",
        "from fastai.vision.all import *\n",
        "path = untar_data(URLs.PETS)/'images'\n",
        "\n",
        "def is_cat(x): return x[0].isupper()\n",
        "dls = ImageDataLoaders.from_name_func(\n",
        "    path, get_image_files(path), valid_pct=0.2, seed=42,\n",
        "    label_func=is_cat, item_tfms=Resize(224))\n",
        "\n",
        "learn = cnn_learner(dls, resnet34, metrics=error_rate)\n",
        "learn.fine_tune(1)\n",
        "```\n",
        "\n",
        "This block of code, as a whole, creates a deep learning model that can differentiate between cats and dogs.\n",
        "\n",
        "```\n",
        "path = untar_data(URLs.PETS)/'images'\n",
        "```\n",
        "The above line of code returns a path object with the location of the downloaded and extracted dataset.\n",
        "\n",
        "\n",
        "```\n",
        "dls = ImageDataLoaders.from_name_func(\n",
        "          path, get_image_files(path), \n",
        "          valid_pct=0.2, seed=42,\n",
        "          label_func=is_cat, \n",
        "          item_tfms=Resize(224)\n",
        "      )\n",
        "```\n",
        "I broke down the above code to better understand it:\n",
        "\n",
        "\n",
        "*  [ ```ImageDataLoaders```](https://docs.fast.ai/vision.data.html#ImageDataLoaders) - one of the many classes for deeplearning (a type of DataLoaders), the first part shows the type of data we're going to be using (in this case Images).\n",
        "*   ```.from_name_func``` - this tells fastai to get the label of the data from a function applied to the file name.\n",
        "*   ```path``` - where the image files are located\n",
        "*   ```get_image_files(path)``` - returns a list of all the images in this path\n",
        "*   ```valid_pct = 0.2, seed = 42``` - tells fastai to use 20% of the images as a validation set and the seed (for generating pseudorandom numbers) is set to 42.\n",
        "*   ```label_func = is_cat``` - label_func takes in the function used to label the images. The function ```is_cat``` will be given the file names (thanks to the ```from_name_func``` part of the code) and then return the label.\n",
        "\n",
        "> Note: is_cat returns True (cat) if the first letter of the file name is in upper case and False (not cat) otherwise\n",
        "\n",
        "*   ```item_tfms=Resize(224)``` - ```item_tfms``` is the function applied to every item in the dataset. In this case, the fastai function ```Resize(224)``` is used to resize each image to a 224 x 224 pixel image. \n",
        "\n",
        "> Note: We can also have batch transforms which apply to groups of items at once. These can be done on GPUs to be done in parallel (pretty fast).\n",
        "\n",
        "```\n",
        "learn = cnn_learner(dls, resnet34, metrics=error_rate)\n",
        "```\n",
        "The above code tells fastai to create a Convoluted Neural Network (CNN) using the resnet34 architecture - 34 is the number of layers in the CNN. ``` dls ``` tells fastai what kind of dataset we have and how it's structured. ``` dls ``` is what we call a DataLoaders object, we'll get more into that later on.\n",
        "\n",
        "The metrics are values that represent the performance of the CNN at the end of every epoch (when the network goes through the data once). The metrics are not to be confused with the loss of a neural network. Loss is a function that changes with any change in the parameters used in the network; meanwhile, metrics don't always change with a change in parameter. In this case, the metric used is ```error_rate``` which returns the percentage of validation items mislabeled by the CNN. An alternative metric is the ```accuracy``` which returns the percentage labeled correct (1 - ```error_rate```).\n",
        "\n",
        "The function, ```cnn_learner```, also has a parameter called ```pretrained``` that defaults to ```True```. This parameter tells fastai to use the weights of previously created models. This starts off with a pretty capable model with the last layer (or head) of the previous model replaced with random parameters. Now we only need to run the line ```learn.fine_tune(1)``` which modifies the network to meet our needs.\n",
        "\n",
        "> Tip: Finetuning a model (also called transfer learning) reminds me of how some people often transfer their skills from one field to another. It might help to think of it that way."
      ]
    },
    {
      "cell_type": "code",
      "metadata": {
        "id": "EYzxSuHwcGQE"
      },
      "source": [
        ""
      ],
      "execution_count": null,
      "outputs": []
    }
  ]
}